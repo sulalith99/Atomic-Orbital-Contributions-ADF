{
  "nbformat": 4,
  "nbformat_minor": 0,
  "metadata": {
    "colab": {
      "provenance": []
    },
    "kernelspec": {
      "name": "python3",
      "display_name": "Python 3"
    },
    "language_info": {
      "name": "python"
    }
  },
  "cells": [
    {
      "cell_type": "markdown",
      "source": [
        "# ***Section I: Extracting the atomic orbital contributions from ADF file***\n",
        "The primary goal of this part will be to extract data from the calculated molecule regarding the most important SFO gross populations across all MOs. The name of the ADF output file is all that is needed for this section. This will eventually produce a *.text* file that you will need to use in ***Section II***."
      ],
      "metadata": {
        "id": "V2fKEeE_jDkt"
      }
    },
    {
      "cell_type": "code",
      "execution_count": 56,
      "metadata": {
        "id": "8LposKRC9VOg",
        "colab": {
          "base_uri": "https://localhost:8080/"
        },
        "outputId": "63664ac6-7dca-413b-83c2-835c9e50b2e6"
      },
      "outputs": [
        {
          "output_type": "execute_result",
          "data": {
            "text/plain": []
          },
          "metadata": {},
          "execution_count": 56
        }
      ],
      "source": [
        "%%shell\n",
        "\n",
        "wd=$PWD\n",
        "###\n",
        "### things to change starts here ###\n",
        "\n",
        "#name of the ADF output file\n",
        "file_name=\"$wd/ex_b3lyp_dz_cd_sttft_18052407.out\"\n",
        "\n",
        "### things to change ends here ###\n",
        "###\n",
        "\n",
        "grep -A3 \"SFO (first member)\" \"$file_name\" > \"$wd/first_line\"\n",
        "sed -i '1d' \"$wd/first_line\"\n",
        "sed -i '1d' \"$wd/first_line\"\n",
        "sed -i '1d' \"$wd/first_line\"\n",
        "\n",
        "line_one=\"$(grep \"\" $wd/first_line)\"\n",
        "rm \"$wd/first_line\"\n",
        "\n",
        "sed -n \"/$line_one/,/^$/p\" \"$file_name\" > \"$wd/orbital_content_temp.text\""
      ]
    },
    {
      "cell_type": "markdown",
      "source": [
        "# ***Section II: Trim the output***\n",
        "Use Excel to access the *.text* file after ***Section I*** and extract the data we need. In order to generate the *.csv* required in this step, utilize the ***atomic_orbital_contributor.xlsx*** Excel file! ***(click here to download >>> [atomic_orbital_contributor.xlsx](https://ksuemailprod-my.sharepoint.com/:x:/g/personal/sulalith_ksu_edu/EcytS_6pj8BOqMiQfkzcjTMB6I70kFiReyF8URfaF0bWXg?e=w7av3s))***. Using the *.csv* file in this section, you can accurately trim it and use it for the last section 😀."
      ],
      "metadata": {
        "id": "C0e9pIA4knRH"
      }
    },
    {
      "cell_type": "code",
      "source": [
        "%%shell\n",
        "\n",
        "wd=$PWD\n",
        "###\n",
        "### things to change starts here ###\n",
        "\n",
        "#name of the csv file\n",
        "file_name=\"$wd/atomic_orbital_contributor.csv\"\n",
        "\n",
        "#number of orbitals to consider (+/-)\n",
        "norbs=15\n",
        "\n",
        "totalnorbs=$((norbs*2+2))\n",
        "### things to change ends here ###\n",
        "###\n",
        "\n",
        "grep -A\"$totalnorbs\" \"Orbital\" \"$file_name\" > \"bottom_trim.csv\"\n",
        "awk -F\",\" '{print $1\",\"$2\",\"$3\",\"$4\",\"$5\",\"$6\",\"$7\",\"$8\",\"$9\",\"$10}' \"bottom_trim.csv\" > final.csv\n",
        "rm \"bottom_trim.csv\""
      ],
      "metadata": {
        "colab": {
          "base_uri": "https://localhost:8080/"
        },
        "id": "3-dCJu_jbdXI",
        "outputId": "3cb53e73-40f0-4e3f-aa6e-41f880149df5"
      },
      "execution_count": 57,
      "outputs": [
        {
          "output_type": "execute_result",
          "data": {
            "text/plain": []
          },
          "metadata": {},
          "execution_count": 57
        }
      ]
    },
    {
      "cell_type": "markdown",
      "source": [
        "Have a look at the data set before moving on to the final section 😀!"
      ],
      "metadata": {
        "id": "zQwnu-ZXvvt8"
      }
    },
    {
      "cell_type": "code",
      "source": [
        "import csv\n",
        "with open('final.csv', mode ='r')as file:\n",
        "  csvFile = csv.reader(file)\n",
        "  for lines in csvFile:\n",
        "        print(lines)"
      ],
      "metadata": {
        "id": "IV-clj5qUTRi"
      },
      "execution_count": null,
      "outputs": []
    },
    {
      "cell_type": "markdown",
      "source": [
        "# ***Section III: Atomic orbital contribution plot***\n",
        "Using the data obtained from earlier sections, we will create the atomic orbital contribution plot ⚛️📈 in this section. The *final.csv* file is the only crucial document in this section. It's important to remember that, based on the results, you might need to make a few changes in this section (such as changing the arrow direction from one orbital to the next)."
      ],
      "metadata": {
        "id": "dyewCNccwUba"
      }
    },
    {
      "cell_type": "code",
      "source": [
        "from pandas import *\n",
        "import matplotlib.pyplot as plt\n",
        "import numpy as np\n",
        "\n",
        "#color palette-1:[\"#ea5545\", \"#f46a9b\", \"#ef9b20\", \"#edbf33\", \"#ede15b\", \"#bdcf32\", \"#87bc45\", \"#27aeef\", \"#b33dc6\"]\n",
        "#color palette-2:[\"#e60049\", \"#0bb4ff\", \"#50e991\", \"#e6d800\", \"#9b19f5\", \"#ffa300\", \"#dc0ab4\", \"#b3d4ff\", \"#00bfa0\"]\n",
        "\n",
        "# reading CSV file\n",
        "data = read_csv(\"final.csv\")\n",
        "\n",
        "# converting column data to list\n",
        "orbital = data['Orbital'].tolist()\n",
        "energy = data['Energy (eV)'].tolist()\n",
        "energy = [float(i) for i in energy]\n",
        "orbital_num = data['Orbital #'].tolist()\n",
        "\n",
        "ao1 = data['Au(S)'].tolist()\n",
        "ao1 = [float(i.replace('%', '')) for i in ao1]\n",
        "ao1 = np.array(ao1)\n",
        "\n",
        "ao2 = data['Au(P)'].tolist()\n",
        "ao2 = [float(i.replace('%', '')) for i in ao2]\n",
        "ao2 = np.array(ao2)\n",
        "\n",
        "ao3 = data['Au(D)'].tolist()\n",
        "ao3 = [float(i.replace('%', '')) for i in ao3]\n",
        "ao3 = np.array(ao3)\n",
        "\n",
        "ao4 = data['S(P)'].tolist()\n",
        "ao4 = [float(i.replace('%', '')) for i in ao4]\n",
        "ao4 = np.array(ao4)\n",
        "\n",
        "ao5 = data['Br(P)'].tolist()\n",
        "ao5 = [float(i.replace('%', '')) for i in ao5]\n",
        "ao5 = np.array(ao5)\n",
        "\n",
        "ao6 = data['Sb(P)'].tolist()\n",
        "ao6 = [float(i.replace('%', '')) for i in ao6]\n",
        "ao6 = np.array(ao6)\n",
        "\n",
        "ao7 = data['Other'].tolist()\n",
        "ao7 = [float(i.replace('%', '')) for i in ao7]\n",
        "ao7 = np.array(ao7)\n",
        "\n",
        "#height of a single bar\n",
        "barheight=0.03\n",
        "#size of the figure (width,height)\n",
        "fig, ax = plt.subplots(figsize=(5, 15))\n",
        "#you can change the padding using the following line. default padding is 10.0%.\n",
        "padding_y=float(12.50)\n",
        "hbars=ax.barh(energy, padding_y, color=\"white\", height=barheight, label='_nolegend_')\n",
        "#step size of yticks\n",
        "plt.yticks(np.arange(-7.00, 1.50, step=0.50),fontsize=15.0)\n",
        "#limit of y axis\n",
        "plt.ylim(-6.75,-0.5)\n",
        "#name of y axis\n",
        "plt.ylabel(\"Energy (eV)\",labelpad=15.0, fontsize=15.0)\n",
        "\n",
        "#names of the atomic orbitals\n",
        "category_names = ['Au(S)','Au(P)','Au(D)','S(P)','Br(P)','Sb(P)','Other']\n",
        "\n",
        "#assigning the atomic orbital contributions\n",
        "hbars=ax.barh(energy, ao1, left=padding_y, color=\"#ea5545\", height=barheight)\n",
        "hbars=ax.barh(energy, ao2, left=padding_y+ao1, color=\"#ef9b20\", height=barheight)\n",
        "hbars=ax.barh(energy, ao3, left=padding_y+ao1+ao2, color=\"#ede15b\", height=barheight)\n",
        "hbars=ax.barh(energy, ao4, left=padding_y+ao1+ao2+ao3, color=\"#87bc45\", height=barheight)\n",
        "hbars=ax.barh(energy, ao5, left=padding_y+ao1+ao2+ao3+ao4, color=\"#27aeef\", height=barheight)\n",
        "hbars=ax.barh(energy, ao6, left=padding_y+ao1+ao2+ao3+ao4+ao5, color=\"#b33dc6\", height=barheight)\n",
        "hbars=ax.barh(energy, ao7, left=padding_y+ao1+ao2+ao3+ao4+ao5+ao6, color=\"darkgrey\", height=barheight)\n",
        "\n",
        "#selecting the axis-X making the bottom and top axes False.\n",
        "plt.tick_params(axis='x', which='both', bottom=False,\n",
        "                top=False, labelbottom=False)\n",
        "\n",
        "#selecting the axis-Y making the right and left axes False.\n",
        "plt.tick_params(axis='y', which='both', right=False,\n",
        "                left=True, labelleft=True)\n",
        "\n",
        "#remove the outline border in the graph\n",
        "for pos in ['right', 'top', 'bottom']:\n",
        "    plt.gca().spines[pos].set_visible(False)\n",
        "\n",
        "#add legends to the plot. <frameon=False> can remove the outline border in the legends\n",
        "plt.legend(category_names, loc='upper center' , ncol=4, bbox_to_anchor=(0.5, 1.075), frameon=False, fontsize=12.0)\n",
        "\n",
        "#add arrows to the graph. xy=(x_value_end,y_value_end); xytext=(x_value_start,y_value_start); arrow point will be pointing at xy coordinates\n",
        "plt.annotate('',xy=(25.0,-1.961),xytext=(25.0,-5.785),arrowprops=dict(linewidth=0.0001, color='black'))\n",
        "plt.annotate('',xy=(45.0,-1.961),xytext=(45.0,-5.842),arrowprops=dict(linewidth=0.0001, color='black'))\n",
        "\n",
        "#adding the orbital name at the end of the bar\n",
        "ax.bar_label(hbars, labels=[f'{e}' for e in orbital], padding=5.5, fontsize=7.0, color=\"#54504c\")\n",
        "\n",
        "plt.savefig('aoc.png',dpi=1080,bbox_inches='tight')"
      ],
      "metadata": {
        "id": "t1ng3IvWkxio"
      },
      "execution_count": null,
      "outputs": []
    }
  ]
}